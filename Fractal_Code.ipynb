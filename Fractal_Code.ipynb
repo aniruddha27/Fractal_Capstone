{
 "cells": [
  {
   "cell_type": "code",
   "execution_count": 1,
   "id": "4f1f3fa4",
   "metadata": {},
   "outputs": [],
   "source": [
    "from pyspark.sql import SparkSession"
   ]
  },
  {
   "cell_type": "code",
   "execution_count": 2,
   "id": "5b414b63",
   "metadata": {},
   "outputs": [],
   "source": [
    "spark = SparkSession.builder.enableHiveSupport().getOrCreate()"
   ]
  },
  {
   "cell_type": "code",
   "execution_count": 3,
   "id": "945913a5",
   "metadata": {},
   "outputs": [
    {
     "data": {
      "text/html": [
       "\n",
       "            <div>\n",
       "                <p><b>SparkSession - hive</b></p>\n",
       "                \n",
       "        <div>\n",
       "            <p><b>SparkContext</b></p>\n",
       "\n",
       "            <p><a href=\"http://g02.itversity.com:4056\">Spark UI</a></p>\n",
       "\n",
       "            <dl>\n",
       "              <dt>Version</dt>\n",
       "                <dd><code>v2.4.7</code></dd>\n",
       "              <dt>Master</dt>\n",
       "                <dd><code>yarn</code></dd>\n",
       "              <dt>AppName</dt>\n",
       "                <dd><code>pyspark-shell</code></dd>\n",
       "            </dl>\n",
       "        </div>\n",
       "        \n",
       "            </div>\n",
       "        "
      ],
      "text/plain": [
       "<pyspark.sql.session.SparkSession at 0x7f4734a94860>"
      ]
     },
     "execution_count": 3,
     "metadata": {},
     "output_type": "execute_result"
    }
   ],
   "source": [
    "spark"
   ]
  },
  {
   "cell_type": "code",
   "execution_count": 4,
   "id": "7e7765cf",
   "metadata": {},
   "outputs": [
    {
     "data": {
      "text/html": [
       "<table border='1'>\n",
       "<tr><th>studentsid</th><th>courseid</th><th>examdate</th><th>attendedstatus</th><th>marks</th><th>result</th></tr>\n",
       "<tr><td>S0189</td><td>C0026</td><td>14 Mar 19</td><td>Attended</td><td>86</td><td>Qualified</td></tr>\n",
       "<tr><td>S0092</td><td>C0027</td><td>15 Mar 19</td><td>Attended</td><td>77</td><td>Qualified</td></tr>\n",
       "<tr><td>S0091</td><td>C0026</td><td>14 Mar 19</td><td>Attended</td><td>86</td><td>Qualified</td></tr>\n",
       "<tr><td>S0090</td><td>C0021</td><td>20 Feb 19</td><td>Attended</td><td>90</td><td>Qualified</td></tr>\n",
       "<tr><td>S0089</td><td>C0020</td><td>19 Feb 19</td><td>Attended</td><td>90</td><td>Qualified</td></tr>\n",
       "<tr><td>S0020</td><td>C0020</td><td>19 Feb 19</td><td>Attended</td><td>90</td><td>Qualified</td></tr>\n",
       "<tr><td>S0044</td><td>C0020</td><td>19 Feb 19</td><td>Attended</td><td>90</td><td>Qualified</td></tr>\n",
       "<tr><td>S0049</td><td>C0027</td><td>15 Mar 19</td><td>Attended</td><td>77</td><td>Qualified</td></tr>\n",
       "<tr><td>S0293</td><td>C0027</td><td>15 Mar 19</td><td>Attended</td><td>77</td><td>Qualified</td></tr>\n",
       "<tr><td>S0045</td><td>C0021</td><td>20 Feb 19</td><td>Attended</td><td>90</td><td>Qualified</td></tr>\n",
       "</table>\n"
      ],
      "text/plain": [
       "+----------+--------+---------+--------------+-----+---------+\n",
       "|studentsid|courseid| examdate|attendedstatus|marks|   result|\n",
       "+----------+--------+---------+--------------+-----+---------+\n",
       "|     S0189|   C0026|14 Mar 19|      Attended|   86|Qualified|\n",
       "|     S0092|   C0027|15 Mar 19|      Attended|   77|Qualified|\n",
       "|     S0091|   C0026|14 Mar 19|      Attended|   86|Qualified|\n",
       "|     S0090|   C0021|20 Feb 19|      Attended|   90|Qualified|\n",
       "|     S0089|   C0020|19 Feb 19|      Attended|   90|Qualified|\n",
       "|     S0020|   C0020|19 Feb 19|      Attended|   90|Qualified|\n",
       "|     S0044|   C0020|19 Feb 19|      Attended|   90|Qualified|\n",
       "|     S0049|   C0027|15 Mar 19|      Attended|   77|Qualified|\n",
       "|     S0293|   C0027|15 Mar 19|      Attended|   77|Qualified|\n",
       "|     S0045|   C0021|20 Feb 19|      Attended|   90|Qualified|\n",
       "+----------+--------+---------+--------------+-----+---------+"
      ]
     },
     "execution_count": 4,
     "metadata": {},
     "output_type": "execute_result"
    }
   ],
   "source": [
    "# table 1\n",
    "spark.sql('select * from stud_courses.course_completion limit 10')"
   ]
  },
  {
   "cell_type": "code",
   "execution_count": 5,
   "id": "d7a439ff",
   "metadata": {},
   "outputs": [
    {
     "data": {
      "text/html": [
       "<table border='1'>\n",
       "<tr><th>courseid</th><th>title</th><th>competency</th><th>complexity</th><th>coursetype</th></tr>\n",
       "<tr><td>C0001</td><td>Certificate in Cl...</td><td>Technical</td><td>Basic</td><td>Cloud</td></tr>\n",
       "<tr><td>C0002</td><td>Certificate in Vi...</td><td>Technical</td><td>Basic</td><td>Cloud</td></tr>\n",
       "<tr><td>C0003</td><td>Diploma in Inform...</td><td>Security</td><td>Advanced</td><td>Cloud</td></tr>\n",
       "<tr><td>C0004</td><td>BE (Hons) in CSE ...</td><td>Domain</td><td>Advanced</td><td>Cloud</td></tr>\n",
       "<tr><td>C0005</td><td>BTech in Computer...</td><td>Domain</td><td>Advanced</td><td>Cloud</td></tr>\n",
       "</table>\n"
      ],
      "text/plain": [
       "+--------+--------------------+----------+----------+----------+\n",
       "|courseid|               title|competency|complexity|coursetype|\n",
       "+--------+--------------------+----------+----------+----------+\n",
       "|   C0001|Certificate in Cl...| Technical|     Basic|     Cloud|\n",
       "|   C0002|Certificate in Vi...| Technical|     Basic|     Cloud|\n",
       "|   C0003|Diploma in Inform...|  Security|  Advanced|     Cloud|\n",
       "|   C0004|BE (Hons) in CSE ...|    Domain|  Advanced|     Cloud|\n",
       "|   C0005|BTech in Computer...|    Domain|  Advanced|     Cloud|\n",
       "+--------+--------------------+----------+----------+----------+"
      ]
     },
     "execution_count": 5,
     "metadata": {},
     "output_type": "execute_result"
    }
   ],
   "source": [
    "# table 2\n",
    "spark.sql('select * from stud_courses.course_details_part limit 5')"
   ]
  },
  {
   "cell_type": "code",
   "execution_count": 7,
   "id": "1f2e4c03",
   "metadata": {},
   "outputs": [
    {
     "data": {
      "text/html": [
       "<table border='1'>\n",
       "<tr><th>count(1)</th></tr>\n",
       "<tr><td>300</td></tr>\n",
       "</table>\n"
      ],
      "text/plain": [
       "+--------+\n",
       "|count(1)|\n",
       "+--------+\n",
       "|     300|\n",
       "+--------+"
      ]
     },
     "execution_count": 7,
     "metadata": {},
     "output_type": "execute_result"
    }
   ],
   "source": [
    "# qs - total number of students qualified for each course\n",
    "spark.sql('select count(*) from stud_courses.course_completion')"
   ]
  },
  {
   "cell_type": "code",
   "execution_count": 8,
   "id": "b1257db9",
   "metadata": {},
   "outputs": [
    {
     "data": {
      "text/html": [
       "<table border='1'>\n",
       "<tr><th>result</th><th>count(1)</th></tr>\n",
       "<tr><td>Not Qualified</td><td>149</td></tr>\n",
       "<tr><td>Qualified</td><td>151</td></tr>\n",
       "</table>\n"
      ],
      "text/plain": [
       "+-------------+--------+\n",
       "|       result|count(1)|\n",
       "+-------------+--------+\n",
       "|Not Qualified|     149|\n",
       "|    Qualified|     151|\n",
       "+-------------+--------+"
      ]
     },
     "execution_count": 8,
     "metadata": {},
     "output_type": "execute_result"
    }
   ],
   "source": [
    "# qs - total number of students per result category\n",
    "spark.sql('select result, count(*) from stud_courses.course_completion group by result')"
   ]
  },
  {
   "cell_type": "code",
   "execution_count": 10,
   "id": "ffdd943c",
   "metadata": {},
   "outputs": [
    {
     "data": {
      "text/html": [
       "<table border='1'>\n",
       "<tr><th>count(1)</th></tr>\n",
       "<tr><td>149</td></tr>\n",
       "</table>\n"
      ],
      "text/plain": [
       "+--------+\n",
       "|count(1)|\n",
       "+--------+\n",
       "|     149|\n",
       "+--------+"
      ]
     },
     "execution_count": 10,
     "metadata": {},
     "output_type": "execute_result"
    }
   ],
   "source": [
    "# qs - total number of students absent\n",
    "spark.sql(\"select count(*) from stud_courses.course_completion where attendedstatus='Absent'\")"
   ]
  },
  {
   "cell_type": "code",
   "execution_count": 6,
   "id": "b8e24c39",
   "metadata": {},
   "outputs": [
    {
     "data": {
      "text/html": [
       "<table border='1'>\n",
       "<tr><th>max(marks)</th><th>min(marks)</th><th>avg(CAST(marks AS DOUBLE))</th></tr>\n",
       "<tr><td>92</td><td>0</td><td>40.013333333333335</td></tr>\n",
       "</table>\n"
      ],
      "text/plain": [
       "+----------+----------+--------------------------+\n",
       "|max(marks)|min(marks)|avg(CAST(marks AS DOUBLE))|\n",
       "+----------+----------+--------------------------+\n",
       "|        92|         0|        40.013333333333335|\n",
       "+----------+----------+--------------------------+"
      ]
     },
     "execution_count": 6,
     "metadata": {},
     "output_type": "execute_result"
    }
   ],
   "source": [
    "# qs - max, min, avg scored by students\n",
    "spark.sql('select max(marks), min(marks), avg(marks) from stud_courses.course_completion')"
   ]
  },
  {
   "cell_type": "code",
   "execution_count": null,
   "id": "76a83ed7",
   "metadata": {},
   "outputs": [],
   "source": [
    "# qs - number of students who have completed each course\n",
    "spark.sql('')"
   ]
  }
 ],
 "metadata": {
  "kernelspec": {
   "display_name": "Pyspark 2",
   "language": "python",
   "name": "pyspark2"
  },
  "language_info": {
   "codemirror_mode": {
    "name": "ipython",
    "version": 3
   },
   "file_extension": ".py",
   "mimetype": "text/x-python",
   "name": "python",
   "nbconvert_exporter": "python",
   "pygments_lexer": "ipython3",
   "version": "3.6.12"
  }
 },
 "nbformat": 4,
 "nbformat_minor": 5
}
